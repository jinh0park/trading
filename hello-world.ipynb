{
 "cells": [
  {
   "cell_type": "code",
   "execution_count": 1,
   "metadata": {},
   "outputs": [],
   "source": [
    "import requests\n",
    "import json\n",
    "from pprint import pprint\n",
    "import numpy as np\n",
    "import matplotlib.pyplot as plt\n",
    "import time"
   ]
  },
  {
   "attachments": {},
   "cell_type": "markdown",
   "metadata": {},
   "source": [
    "# 시세 종목 조회"
   ]
  },
  {
   "cell_type": "code",
   "execution_count": 16,
   "metadata": {},
   "outputs": [
    {
     "name": "stdout",
     "output_type": "stream",
     "text": [
      "{'english_name': 'Bitcoin',\n",
      " 'korean_name': '비트코인',\n",
      " 'market': 'KRW-BTC',\n",
      " 'market_event': {'caution': {'CONCENTRATION_OF_SMALL_ACCOUNTS': False,\n",
      "                              'DEPOSIT_AMOUNT_SOARING': False,\n",
      "                              'GLOBAL_PRICE_DIFFERENCES': False,\n",
      "                              'PRICE_FLUCTUATIONS': False,\n",
      "                              'TRADING_VOLUME_SOARING': False},\n",
      "                  'warning': False},\n",
      " 'market_warning': 'NONE'}\n",
      "['KRW-BTC',\n",
      " 'KRW-ETH',\n",
      " 'BTC-ETH',\n",
      " 'BTC-XRP',\n",
      " 'BTC-ETC',\n",
      " 'BTC-CVC',\n",
      " 'BTC-DGB',\n",
      " 'BTC-SC',\n",
      " 'BTC-SNT',\n",
      " 'BTC-WAVES']\n"
     ]
    }
   ],
   "source": [
    "url = \"https://api.upbit.com/v1/market/all?isDetails=true\"\n",
    "\n",
    "headers = {\"accept\": \"application/json\"}\n",
    "\n",
    "res = requests.get(url, headers=headers)\n",
    "\n",
    "len(res.json())\n",
    "pprint(res.json()[0])\n",
    "pprint([r[\"market\"] for r in res.json()][:10])"
   ]
  },
  {
   "cell_type": "markdown",
   "metadata": {},
   "source": [
    "# 시세 캔들 조회"
   ]
  },
  {
   "cell_type": "code",
   "execution_count": 34,
   "metadata": {},
   "outputs": [
    {
     "name": "stdout",
     "output_type": "stream",
     "text": [
      "[{'candle_acc_trade_price': 4547794.77743,\n",
      "  'candle_acc_trade_volume': 0.05023839,\n",
      "  'candle_date_time_kst': '2024-07-17T21:32:00',\n",
      "  'candle_date_time_utc': '2024-07-17T12:32:00',\n",
      "  'high_price': 90539000.0,\n",
      "  'low_price': 90494000.0,\n",
      "  'market': 'KRW-BTC',\n",
      "  'opening_price': 90538000.0,\n",
      "  'timestamp': 1721219541097,\n",
      "  'trade_price': 90539000.0,\n",
      "  'unit': 1}]\n"
     ]
    }
   ],
   "source": [
    "unit = 1\n",
    "headers = {\"accept\": \"application/json\"}\n",
    "query_params = {\"market\": \"KRW-BTC\", \"count\":1}\n",
    "\n",
    "url = f\"https://api.upbit.com/v1/candles/minutes/{unit}\"\n",
    "\n",
    "response = requests.get(url, headers=headers, params=query_params)\n",
    "\n",
    "pprint(json.loads(response.text))"
   ]
  },
  {
   "cell_type": "code",
   "execution_count": 36,
   "metadata": {},
   "outputs": [
    {
     "name": "stdout",
     "output_type": "stream",
     "text": [
      "[{'candle_acc_trade_price': 223592304422.7418,\n",
      "  'candle_acc_trade_volume': 2449.28556806,\n",
      "  'candle_date_time_kst': '2024-07-17T09:00:00',\n",
      "  'candle_date_time_utc': '2024-07-17T00:00:00',\n",
      "  'change_price': -306000.0,\n",
      "  'change_rate': -0.0033697843,\n",
      "  'high_price': 92159000.0,\n",
      "  'low_price': 90001000.0,\n",
      "  'market': 'KRW-BTC',\n",
      "  'opening_price': 90825000.0,\n",
      "  'prev_closing_price': 90807000.0,\n",
      "  'timestamp': 1721219587943,\n",
      "  'trade_price': 90501000.0}]\n"
     ]
    }
   ],
   "source": [
    "headers = {\"accept\": \"application/json\"}\n",
    "query_params = {\"market\": \"KRW-BTC\", \"count\":1}\n",
    "\n",
    "url = f\"https://api.upbit.com/v1/candles/days\"\n",
    "\n",
    "response = requests.get(url, headers=headers, params=query_params)\n",
    "\n",
    "pprint(json.loads(response.text))"
   ]
  },
  {
   "cell_type": "code",
   "execution_count": 37,
   "metadata": {},
   "outputs": [
    {
     "name": "stdout",
     "output_type": "stream",
     "text": [
      "[{'candle_acc_trade_price': 1230817676452.3835,\n",
      "  'candle_acc_trade_volume': 13767.54244501,\n",
      "  'candle_date_time_kst': '2024-07-15T09:00:00',\n",
      "  'candle_date_time_utc': '2024-07-15T00:00:00',\n",
      "  'first_day_of_period': '2024-07-15',\n",
      "  'high_price': 92159000.0,\n",
      "  'low_price': 85269000.0,\n",
      "  'market': 'KRW-BTC',\n",
      "  'opening_price': 85430000.0,\n",
      "  'timestamp': 1721219646967,\n",
      "  'trade_price': 90516000.0}]\n"
     ]
    }
   ],
   "source": [
    "headers = {\"accept\": \"application/json\"}\n",
    "query_params = {\"market\": \"KRW-BTC\", \"count\":1}\n",
    "\n",
    "url = f\"https://api.upbit.com/v1/candles/weeks\"\n",
    "\n",
    "response = requests.get(url, headers=headers, params=query_params)\n",
    "\n",
    "pprint(json.loads(response.text))"
   ]
  },
  {
   "cell_type": "code",
   "execution_count": 38,
   "metadata": {},
   "outputs": [
    {
     "name": "stdout",
     "output_type": "stream",
     "text": [
      "[{'candle_acc_trade_price': 5163337012429.058,\n",
      "  'candle_acc_trade_volume': 61667.02969008,\n",
      "  'candle_date_time_kst': '2024-07-01T09:00:00',\n",
      "  'candle_date_time_utc': '2024-07-01T00:00:00',\n",
      "  'first_day_of_period': '2024-07-01',\n",
      "  'high_price': 92159000.0,\n",
      "  'low_price': 77335000.0,\n",
      "  'market': 'KRW-BTC',\n",
      "  'opening_price': 87920000.0,\n",
      "  'timestamp': 1721219673695,\n",
      "  'trade_price': 90564000.0}]\n"
     ]
    }
   ],
   "source": [
    "headers = {\"accept\": \"application/json\"}\n",
    "query_params = {\"market\": \"KRW-BTC\", \"count\":1}\n",
    "\n",
    "url = f\"https://api.upbit.com/v1/candles/months\"\n",
    "\n",
    "response = requests.get(url, headers=headers, params=query_params)\n",
    "\n",
    "pprint(json.loads(response.text))"
   ]
  },
  {
   "attachments": {},
   "cell_type": "markdown",
   "metadata": {},
   "source": [
    "# 시세 체결 조회"
   ]
  },
  {
   "cell_type": "code",
   "execution_count": 42,
   "metadata": {},
   "outputs": [
    {
     "name": "stdout",
     "output_type": "stream",
     "text": [
      "[{'ask_bid': 'BID',\n",
      "  'change_price': -211000.0,\n",
      "  'market': 'KRW-BTC',\n",
      "  'prev_closing_price': 90807000.0,\n",
      "  'sequential_id': 17212199183240000,\n",
      "  'timestamp': 1721219918324,\n",
      "  'trade_date_utc': '2024-07-17',\n",
      "  'trade_price': 90596000.0,\n",
      "  'trade_time_utc': '12:38:38',\n",
      "  'trade_volume': 0.00011038},\n",
      " {'ask_bid': 'BID',\n",
      "  'change_price': -249000.0,\n",
      "  'market': 'KRW-BTC',\n",
      "  'prev_closing_price': 90807000.0,\n",
      "  'sequential_id': 17212199171210000,\n",
      "  'timestamp': 1721219917121,\n",
      "  'trade_date_utc': '2024-07-17',\n",
      "  'trade_price': 90558000.0,\n",
      "  'trade_time_utc': '12:38:37',\n",
      "  'trade_volume': 0.0013226}]\n"
     ]
    }
   ],
   "source": [
    "query_params = {\"market\": \"KRW-BTC\", \"count\":2}\n",
    "headers = {\"accept\": \"application/json\"}\n",
    "\n",
    "url = \"https://api.upbit.com/v1/trades/ticks\"\n",
    "\n",
    "response = requests.get(url, headers=headers, params=query_params)\n",
    "\n",
    "pprint(json.loads(response.text))"
   ]
  },
  {
   "attachments": {},
   "cell_type": "markdown",
   "metadata": {},
   "source": [
    "# 시세 현재가 조회"
   ]
  },
  {
   "cell_type": "code",
   "execution_count": 119,
   "metadata": {},
   "outputs": [
    {
     "name": "stdout",
     "output_type": "stream",
     "text": [
      "[{'acc_trade_price': 236951292728.21423,\n",
      "  'acc_trade_price_24h': 375836475691.98694,\n",
      "  'acc_trade_volume': 2597.1474862,\n",
      "  'acc_trade_volume_24h': 4138.90820151,\n",
      "  'change': 'FALL',\n",
      "  'change_price': 390000.0,\n",
      "  'change_rate': 0.0042948231,\n",
      "  'high_price': 92159000.0,\n",
      "  'highest_52_week_date': '2024-03-14',\n",
      "  'highest_52_week_price': 105000000.0,\n",
      "  'low_price': 90001000.0,\n",
      "  'lowest_52_week_date': '2023-09-11',\n",
      "  'lowest_52_week_price': 34100000.0,\n",
      "  'market': 'KRW-BTC',\n",
      "  'opening_price': 90825000.0,\n",
      "  'prev_closing_price': 90807000.0,\n",
      "  'signed_change_price': -390000.0,\n",
      "  'signed_change_rate': -0.0042948231,\n",
      "  'timestamp': 1721223430239,\n",
      "  'trade_date': '20240717',\n",
      "  'trade_date_kst': '20240717',\n",
      "  'trade_price': 90417000.0,\n",
      "  'trade_time': '133710',\n",
      "  'trade_time_kst': '223710',\n",
      "  'trade_timestamp': 1721223430208,\n",
      "  'trade_volume': 0.00140128}]\n"
     ]
    }
   ],
   "source": [
    "url = \"https://api.upbit.com/v1/ticker\"\n",
    "headers = {\"accept\": \"application/json\"}\n",
    "query_params = {\"markets\": \"KRW-BTC\"}\n",
    "\n",
    "response = requests.get(url, headers=headers, params=query_params)\n",
    "\n",
    "pprint(json.loads(response.text))"
   ]
  },
  {
   "attachments": {},
   "cell_type": "markdown",
   "metadata": {},
   "source": [
    "# 시세 호가 정보(Orderbook) 조회"
   ]
  },
  {
   "cell_type": "code",
   "execution_count": 73,
   "metadata": {},
   "outputs": [
    {
     "name": "stdout",
     "output_type": "stream",
     "text": [
      "[(90524000, '0.22580000'),\n",
      " (90525000, '0.09673088'),\n",
      " (90529000, '0.01000000'),\n",
      " (90539000, '1.26615000'),\n",
      " (90540000, '0.24510129'),\n",
      " (90541000, '0.07765984'),\n",
      " (90542000, '0.03056000'),\n",
      " (90543000, '0.18692727'),\n",
      " (90544000, '0.10328207'),\n",
      " (90545000, '0.02166955'),\n",
      " (90547000, '0.06162808'),\n",
      " (90557000, '0.00140096'),\n",
      " (90566000, '0.06159154'),\n",
      " (90567000, '0.00310299'),\n",
      " (90568000, '0.48020000')]\n"
     ]
    }
   ],
   "source": [
    "headers = {\"accept\": \"application/json\"}\n",
    "query_params = {\"markets\": \"KRW-BTC\", \"count\":1}\n",
    "\n",
    "url = f\"https://api.upbit.com/v1/orderbook\"\n",
    "\n",
    "response = requests.get(url, headers=headers, params=query_params)\n",
    "\n",
    "data = json.loads(response.text)\n",
    "pprint([(d['ask_price'], \"{:.8f}\".format(d['ask_size'])) for d in data[0]['orderbook_units']])\n",
    "#pprint([f\"{int(d['ask_price']*d['ask_size']):8d}\" for d in data[0]['orderbook_units']])\n",
    "\n",
    "\n"
   ]
  },
  {
   "cell_type": "code",
   "execution_count": 54,
   "metadata": {},
   "outputs": [
    {
     "name": "stdout",
     "output_type": "stream",
     "text": [
      "dict_keys(['market', 'timestamp', 'total_ask_size', 'total_bid_size', 'orderbook_units', 'level'])\n",
      "{'ask_price': 90413000, 'bid_price': 90406000, 'ask_size': 0.03631641, 'bid_size': 0.15526574}\n"
     ]
    }
   ],
   "source": [
    "print(data[0].keys())\n",
    "print(data[0][\"orderbook_units\"][0])"
   ]
  },
  {
   "cell_type": "code",
   "execution_count": 120,
   "metadata": {},
   "outputs": [
    {
     "name": "stdout",
     "output_type": "stream",
     "text": [
      "[{\"market\":\"KRW-BTC\",\"supported_levels\":[0,10000,100000,1000000,10000000]},{\"market\":\"KRW-ETH\",\"supported_levels\":[0,10000,100000,1000000]},{\"market\":\"KRW-BTT\",\"supported_levels\":[0,0.00001,0.0001,0.001]},{\"market\":\"BTC-XRP\",\"supported_levels\":[0]}]\n"
     ]
    }
   ],
   "source": [
    "url = \"https://api.upbit.com/v1/orderbook/supported_levels?markets=KRW-BTC&markets=KRW-ETH&markets=KRW-BTT&markets=BTC-XRP\"\n",
    "\n",
    "headers = {\"accept\": \"application/json\"}\n",
    "\n",
    "response = requests.get(url, headers=headers)\n",
    "\n",
    "print(response.text)"
   ]
  },
  {
   "cell_type": "code",
   "execution_count": null,
   "metadata": {},
   "outputs": [],
   "source": []
  }
 ],
 "metadata": {
  "kernelspec": {
   "display_name": ".venv",
   "language": "python",
   "name": "python3"
  },
  "language_info": {
   "codemirror_mode": {
    "name": "ipython",
    "version": 3
   },
   "file_extension": ".py",
   "mimetype": "text/x-python",
   "name": "python",
   "nbconvert_exporter": "python",
   "pygments_lexer": "ipython3",
   "version": "3.11.1 (v3.11.1:a7a450f84a, Dec  6 2022, 15:24:06) [Clang 13.0.0 (clang-1300.0.29.30)]"
  },
  "orig_nbformat": 4,
  "vscode": {
   "interpreter": {
    "hash": "9c96a1d1588dd721dc09542c2529f30831daa31151cfe55da51eb27d5832a1d5"
   }
  }
 },
 "nbformat": 4,
 "nbformat_minor": 2
}
