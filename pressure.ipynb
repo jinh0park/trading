{
 "cells": [
  {
   "cell_type": "code",
   "execution_count": 1,
   "metadata": {},
   "outputs": [],
   "source": [
    "import requests\n",
    "import json\n",
    "from pprint import pprint\n",
    "import numpy as np\n",
    "import matplotlib.pyplot as plt\n",
    "import time"
   ]
  },
  {
   "cell_type": "code",
   "execution_count": 5,
   "metadata": {},
   "outputs": [
    {
     "name": "stdout",
     "output_type": "stream",
     "text": [
      "[(90212000, '0.53617149'),\n",
      " (90216000, '0.08542935'),\n",
      " (90219000, '0.02157270'),\n",
      " (90220000, '0.16911672'),\n",
      " (90222000, '1.00813976'),\n",
      " (90223000, '0.58448410'),\n",
      " (90224000, '0.00100000'),\n",
      " (90225000, '0.02307775'),\n",
      " (90229000, '0.24198677'),\n",
      " (90230000, '1.11116278'),\n",
      " (90233000, '0.05117594'),\n",
      " (90234000, '0.55656635'),\n",
      " (90235000, '0.41875505'),\n",
      " (90240000, '0.06583212'),\n",
      " (90243000, '0.00554060')]\n"
     ]
    }
   ],
   "source": [
    "headers = {\"accept\": \"application/json\"}\n",
    "query_params = {\"markets\": \"KRW-BTC\", \"count\":1}\n",
    "\n",
    "url = f\"https://api.upbit.com/v1/orderbook\"\n",
    "\n",
    "response = requests.get(url, headers=headers, params=query_params)\n",
    "\n",
    "data = json.loads(response.text)\n",
    "pprint([(d['ask_price'], \"{:.8f}\".format(d['ask_size'])) for d in data[0]['orderbook_units']])\n",
    "#pprint([f\"{int(d['ask_price']*d['ask_size']):8d}\" for d in data[0]['orderbook_units']])\n",
    "\n",
    "\n"
   ]
  },
  {
   "cell_type": "markdown",
   "metadata": {},
   "source": []
  },
  {
   "cell_type": "code",
   "execution_count": 13,
   "metadata": {},
   "outputs": [
    {
     "name": "stdout",
     "output_type": "stream",
     "text": [
      "[(1.0, '0.53617149'),\n",
      " (0.6418504212586176, '0.08542935'),\n",
      " (0.4602663273766539, '0.02157270'),\n",
      " (0.4119719632698649, '0.16911672'),\n",
      " (0.3300536777733693, '1.00813976'),\n",
      " (0.2954221361178621, '0.58448410'),\n",
      " (0.26442437817150255, '0.00100000'),\n",
      " (0.236679121917561, '0.02307775'),\n",
      " (0.15191259410590624, '0.24198677'),\n",
      " (0.1359728616167343, '1.11116278'),\n",
      " (0.0975051625213653, '0.05117594'),\n",
      " (0.08727423850844067, '0.55656635'),\n",
      " (0.07811681464106267, '0.41875505'),\n",
      " (0.04487834305397258, '0.06583212'),\n",
      " (0.032181937492066715, '0.00554060')]\n"
     ]
    }
   ],
   "source": [
    "d0 = data[0]['orderbook_units'][0]['ask_price']\n",
    "pprint([(np.exp(-10000*((d['ask_price']-d0)/d0)), \"{:.8f}\".format(d['ask_size'])) for d in data[0]['orderbook_units']])"
   ]
  },
  {
   "cell_type": "code",
   "execution_count": 56,
   "metadata": {},
   "outputs": [],
   "source": [
    "def pressure(orderbook, gamma=2):\n",
    "    data=orderbook\n",
    "    ret = {}\n",
    "    for label in ['ask', 'bid']:\n",
    "        d0 = data[0]['orderbook_units'][0][f'{label}_price']\n",
    "        delta = np.abs(data[0]['orderbook_units'][0][f'{label}_price'] - data[0]['orderbook_units'][1][f'{label}_price'])\n",
    "        p = 0\n",
    "        for d in data[0]['orderbook_units']:\n",
    "            #print(\"{:.8f}\".format(np.exp(-((np.abs(d[f'{label}_price']-d0))/delta)/gamma)), \"{:.8f}\".format(d[f'{label}_size']), end=\" \")\n",
    "            #print(\"{:.8f}\".format(d[f'{label}_size']*np.exp(-(np.abs(d[f'{label}_price']-d0)/delta)/2)))\n",
    "            p += d[f'{label}_size']*np.exp(-(np.abs(d[f'{label}_price']-d0)/delta)/2)\n",
    "        ret[label] = p\n",
    "    return ret"
   ]
  },
  {
   "cell_type": "code",
   "execution_count": 57,
   "metadata": {},
   "outputs": [
    {
     "data": {
      "text/plain": [
       "{'ask': 0.3193871154413805, 'bid': 1.1414402612590828}"
      ]
     },
     "execution_count": 57,
     "metadata": {},
     "output_type": "execute_result"
    }
   ],
   "source": [
    "headers = {\"accept\": \"application/json\"}\n",
    "query_params = {\"markets\": 'KRW-BTC', \"count\":1}\n",
    "\n",
    "url = f\"https://api.upbit.com/v1/orderbook\"\n",
    "\n",
    "response = requests.get(url, headers=headers, params=query_params)\n",
    "\n",
    "data = json.loads(response.text)\n",
    "\n",
    "\n",
    "pressure(data)"
   ]
  },
  {
   "cell_type": "code",
   "execution_count": null,
   "metadata": {},
   "outputs": [],
   "source": []
  },
  {
   "cell_type": "code",
   "execution_count": null,
   "metadata": {},
   "outputs": [],
   "source": []
  }
 ],
 "metadata": {
  "kernelspec": {
   "display_name": "Python 3",
   "language": "python",
   "name": "python3"
  },
  "language_info": {
   "codemirror_mode": {
    "name": "ipython",
    "version": 3
   },
   "file_extension": ".py",
   "mimetype": "text/x-python",
   "name": "python",
   "nbconvert_exporter": "python",
   "pygments_lexer": "ipython3",
   "version": "3.11.1 (v3.11.1:a7a450f84a, Dec  6 2022, 15:24:06) [Clang 13.0.0 (clang-1300.0.29.30)]"
  },
  "orig_nbformat": 4,
  "vscode": {
   "interpreter": {
    "hash": "aee8b7b246df8f9039afb4144a1f6fd8d2ca17a180786b69acc140d282b71a49"
   }
  }
 },
 "nbformat": 4,
 "nbformat_minor": 2
}
