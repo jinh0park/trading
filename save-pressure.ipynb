{
 "cells": [
  {
   "cell_type": "code",
   "execution_count": 3,
   "metadata": {},
   "outputs": [],
   "source": [
    "import requests\n",
    "import json\n",
    "from pprint import pprint\n",
    "import numpy as np\n",
    "import matplotlib.pyplot as plt\n",
    "import time\n",
    "from tqdm import tqdm\n",
    "from utils import pressure"
   ]
  },
  {
   "cell_type": "code",
   "execution_count": 4,
   "metadata": {},
   "outputs": [],
   "source": [
    "def get_trade_price():\n",
    "    url = \"https://api.upbit.com/v1/ticker\"\n",
    "    headers = {\"accept\": \"application/json\"}\n",
    "    query_params = {\"markets\": \"KRW-BTC\"}\n",
    "\n",
    "    response = requests.get(url, headers=headers, params=query_params)\n",
    "    res = json.loads(response.text)[0]\n",
    "    return res['timestamp'], res['trade_price']\n",
    "\n",
    "def get_orderbook_data():\n",
    "    headers = {\"accept\": \"application/json\"}\n",
    "    query_params = {\"markets\": \"KRW-BTC\", \"count\":1}\n",
    "\n",
    "    url = f\"https://api.upbit.com/v1/orderbook\"\n",
    "    response = requests.get(url, headers=headers, params=query_params)\n",
    "    return json.loads(response.text)"
   ]
  },
  {
   "cell_type": "code",
   "execution_count": 9,
   "metadata": {},
   "outputs": [],
   "source": [
    "def save_pressure():\n",
    "  data = get_orderbook_data()\n",
    "  p = pressure(data)\n",
    "  res = requests.post(\"http://127.0.0.1:8000/api/pressures/\",data={\n",
    "    \"timestamp\":data[0]['timestamp'], \n",
    "    \"ask_pressure\": p['ask'],\n",
    "    \"bid_pressure\": p['bid'],\n",
    "    \"pressure_ratio\": (p['ask'] - p['bid'])/(p['ask'] + p['bid'])\n",
    "  })\n",
    "\n",
    "  return res\n",
    "  "
   ]
  },
  {
   "cell_type": "code",
   "execution_count": 19,
   "metadata": {},
   "outputs": [],
   "source": [
    "def save_price():\n",
    "  t, price = get_trade_price()\n",
    "\n",
    "  res = requests.post(\"http://127.0.0.1:8000/api/trade-prices/\",data={\n",
    "    \"timestamp\":t, \n",
    "    \"price\": price\n",
    "  })\n",
    "\n",
    "  return res\n",
    "  "
   ]
  },
  {
   "cell_type": "code",
   "execution_count": null,
   "metadata": {},
   "outputs": [],
   "source": [
    "while True:\n",
    "    try:\n",
    "      save_price()\n",
    "      save_pressure()\n",
    "      time.sleep\n",
    "    except Exception as e:\n",
    "       print(e)"
   ]
  }
 ],
 "metadata": {
  "kernelspec": {
   "display_name": "Python 3",
   "language": "python",
   "name": "python3"
  },
  "language_info": {
   "codemirror_mode": {
    "name": "ipython",
    "version": 3
   },
   "file_extension": ".py",
   "mimetype": "text/x-python",
   "name": "python",
   "nbconvert_exporter": "python",
   "pygments_lexer": "ipython3",
   "version": "3.11.1"
  },
  "orig_nbformat": 4,
  "vscode": {
   "interpreter": {
    "hash": "aee8b7b246df8f9039afb4144a1f6fd8d2ca17a180786b69acc140d282b71a49"
   }
  }
 },
 "nbformat": 4,
 "nbformat_minor": 2
}
